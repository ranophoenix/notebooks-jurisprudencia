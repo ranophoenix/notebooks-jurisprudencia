{
 "cells": [
  {
   "cell_type": "markdown",
   "metadata": {},
   "source": [
    "# De XML para CSV\n",
    "\n",
    "O formato XML não facilita muito a vida de quem quer utilizar os dados de forma mais simples. Após descompactar os [Acórdãos do Segundo Grau](https://osf.io/as8uv/), o pesquisador fica com vários XMLs no diretório, totalizando cerca de 2.2G de dados. Com esse volume, já sentimos uma certa lentidão para realizar a carga dos arquivos, imagine fazer operações de agrupamento, ordenação, etc. Ou seja, temos muito material para 'brincar'!\n",
    "\n",
    "Considerando que o formato CSV acabou tornando-se muito popular para disponibilizar dados na Web, então, vamos fazer a conversão! \n",
    "\n",
    "Em virtude do volume, poderíamos utilizar o [Dask](https://dask.org/), por exemplo, para paralelizar o parser dos arquivos, mas a ideia é começarmos simples e, em outros notebooks, explorarmos outros tópicos/tecnologias. \n",
    "\n",
    "O XML possui algumas colunas que não agregam valor para análise, haja vista que são dados utilizados internamente pelo motor de buscas do TJSE (o campo Chave, por exemplo). Sendo assim, utilizamos somente as colunas:\n",
    " * txtAcordao: Texto do acórdão;\n",
    " * data: Data de publicação do acórdão;\n",
    " * txtVoto: Texto relatando o voto de cada Desembargador;\n",
    " * NroProcesso: Número do processo; \n",
    " * NroAcordao: Número do acórdão;\n",
    " * DescRecurso: Tipo de recurso;\n",
    " * DesRelator: Nome do relator do acórdão;\n",
    " * OrgaoJulgador: Órgão que julgou o acórdão;\n",
    " * txtEmenta: Texto da ementa. Este é um dos campos textuais mais importantes, pois representa um resumo do que foi tratado pelo acórdão; \n",
    " * txtRelatorio: Texto do relatório do acórdão.\n",
    " \n",
    " \n",
    "Para entender um pouco mais sobre o que é um acórdão recomendo a leitura [desse](https://www.infoescola.com/direito/acordao/) artigo, ou do Cap. 2 de [minha dissertação](http://osf.io/x3rbn/?action=download) se tiver com um pouco mais de tempo. :)\n",
    " "
   ]
  },
  {
   "cell_type": "code",
   "execution_count": 1,
   "metadata": {},
   "outputs": [],
   "source": [
    "#Caso os XMLs não coubessem na memória, seria melhor ir gerando o CSV conforme o XML fosse lido.\n",
    "#Como não é o caso aqui, carregaremos simplesmente os registros na memória.\n",
    "\n",
    "from pathlib import Path\n",
    "import xml.etree.ElementTree as ET\n",
    "import numpy as np\n",
    "\n",
    "acordaos_dict = {'txtAcordao':[], \n",
    "      'data':[], \n",
    "      'txtVoto':[], \n",
    "      'NroProcesso':[], \n",
    "      'NroAcordao':[], \n",
    "      'DescRecurso':[], \n",
    "      'DesRelator':[], \n",
    "      'OrgaoJulgador':[], \n",
    "      'txtEmenta':[], \n",
    "      'txtRelatorio':[]}\n",
    "\n",
    "def popular_dicionario(arquivo, dicionario):            \n",
    "    tree = ET.parse(arquivo)\n",
    "    root = tree.getroot()\n",
    "    for doc in tree.findall(\".//doc\"):\n",
    "        for k in dicionario.keys():\n",
    "            try:\n",
    "                texto = doc.find(f\"./field[@name='{k}']\").text\n",
    "                dicionario[k].append(texto)\n",
    "            except:\n",
    "                dicionario[k].append(np.nan)\n",
    "\n",
    "xml_dir = Path(\"dataset/asg/\")\n",
    "\n",
    "for xml in xml_dir.glob('*.xml'):\n",
    "    popular_dicionario(xml, acordaos_dict)"
   ]
  },
  {
   "cell_type": "markdown",
   "metadata": {},
   "source": [
    "## Limpeza de Dados\n",
    "\n",
    "Além de fazer a conversão, que tal aproveitarmos os dados em memória para executar alguns tratamentos nos dados? Para tal, utilizaremos o [Pandas](https://pandas.pydata.org/)."
   ]
  },
  {
   "cell_type": "code",
   "execution_count": 2,
   "metadata": {},
   "outputs": [
    {
     "data": {
      "text/html": [
       "<div>\n",
       "<style>\n",
       "    .dataframe thead tr:only-child th {\n",
       "        text-align: right;\n",
       "    }\n",
       "\n",
       "    .dataframe thead th {\n",
       "        text-align: left;\n",
       "    }\n",
       "\n",
       "    .dataframe tbody tr th {\n",
       "        vertical-align: top;\n",
       "    }\n",
       "</style>\n",
       "<table border=\"1\" class=\"dataframe\">\n",
       "  <thead>\n",
       "    <tr style=\"text-align: right;\">\n",
       "      <th></th>\n",
       "      <th>DesRelator</th>\n",
       "      <th>DescRecurso</th>\n",
       "      <th>NroAcordao</th>\n",
       "      <th>NroProcesso</th>\n",
       "      <th>OrgaoJulgador</th>\n",
       "      <th>data</th>\n",
       "      <th>txtAcordao</th>\n",
       "      <th>txtEmenta</th>\n",
       "      <th>txtRelatorio</th>\n",
       "      <th>txtVoto</th>\n",
       "    </tr>\n",
       "  </thead>\n",
       "  <tbody>\n",
       "    <tr>\n",
       "      <th>0</th>\n",
       "      <td>Des. Cezário Siqueira Neto</td>\n",
       "      <td>Apelação</td>\n",
       "      <td>20165410</td>\n",
       "      <td>200200205551</td>\n",
       "      <td>2ª CÂMARA CÍVEL</td>\n",
       "      <td>2016-04-14T00:00:00Z</td>\n",
       "      <td>Vistos, relatados e discutidos estes autos, A...</td>\n",
       "      <td>APELAÇÃO CÍVEL. AÇÃO REVISIONAL. SUCESSIVOS C...</td>\n",
       "      <td>Desembargador Cezário Siqueira Neto (Relator)...</td>\n",
       "      <td>Desembargador Cezário Siqueira Neto (Relator)...</td>\n",
       "    </tr>\n",
       "    <tr>\n",
       "      <th>1</th>\n",
       "      <td>Des. Luiz Antônio Araújo Mendonça</td>\n",
       "      <td>Embargos de Declaração</td>\n",
       "      <td>201420012</td>\n",
       "      <td>200300104705</td>\n",
       "      <td>TRIBUNAL PLENO</td>\n",
       "      <td>2014-12-09T00:00:00Z</td>\n",
       "      <td>Vistos, relatados e discutidos estes autos em...</td>\n",
       "      <td>Embargos de Declaração. Alegação de omissão. ...</td>\n",
       "      <td>Desembargador Luiz Antônio Araújo Mendonça (R...</td>\n",
       "      <td>Desembargador Luiz Antônio Araújo Mendonça (R...</td>\n",
       "    </tr>\n",
       "    <tr>\n",
       "      <th>2</th>\n",
       "      <td>Des. Roberto Eugenio da Fonseca Porto</td>\n",
       "      <td>Apelação</td>\n",
       "      <td>20149458</td>\n",
       "      <td>200300206387</td>\n",
       "      <td>1ª CÂMARA CÍVEL</td>\n",
       "      <td>2014-07-03T00:00:00Z</td>\n",
       "      <td>Vistos, relatados e discutidos os presentes a...</td>\n",
       "      <td>APELAÇÃO CÍVEL ? CONTRATO BANCÁRIO ? NOVO JUL...</td>\n",
       "      <td>Des. ROBERTO EUGENIO DA FONSECA PORTO (Relato...</td>\n",
       "      <td>Des. ROBERTO EUGENIO DA FONSECA PORTO (Relato...</td>\n",
       "    </tr>\n",
       "    <tr>\n",
       "      <th>3</th>\n",
       "      <td>Dra. Ana Bernadete Leite de Carvalho Andrade</td>\n",
       "      <td>Apelação</td>\n",
       "      <td>20161032</td>\n",
       "      <td>200400205720</td>\n",
       "      <td>1ª CÂMARA CÍVEL</td>\n",
       "      <td>2016-02-11T00:00:00Z</td>\n",
       "      <td>Vistos, relatados e discutidos estes autos, a...</td>\n",
       "      <td>RECURSO EXTRAORDINÁRIO SOBRESTADO NA PRESIDÊN...</td>\n",
       "      <td>JUÍZA CONVOCADA ANA BERNADETE LEITE DE CARVAL...</td>\n",
       "      <td>JUÍZA CONVOCADA ANA BERNADETE LEITE DE CARVAL...</td>\n",
       "    </tr>\n",
       "    <tr>\n",
       "      <th>4</th>\n",
       "      <td>Des. Osório de Araújo Ramos Filho</td>\n",
       "      <td>Apelação</td>\n",
       "      <td>201511058</td>\n",
       "      <td>200400210132</td>\n",
       "      <td>1ª CÂMARA CÍVEL</td>\n",
       "      <td>2015-07-17T00:00:00Z</td>\n",
       "      <td>Vistos, relatados e discutidos os autos da pr...</td>\n",
       "      <td>APELAÇÃO CÍVEL ? AÇÃO REVISIONAL ? CONTRATO B...</td>\n",
       "      <td>O BANCO DO ESTADO DE SERGIPE S/A - BANESE, in...</td>\n",
       "      <td>O BANCO DO ESTADO DE SERGIPE S/A - BANESE, in...</td>\n",
       "    </tr>\n",
       "  </tbody>\n",
       "</table>\n",
       "</div>"
      ],
      "text/plain": [
       "                                     DesRelator             DescRecurso  \\\n",
       "0                    Des. Cezário Siqueira Neto                Apelação   \n",
       "1             Des. Luiz Antônio Araújo Mendonça  Embargos de Declaração   \n",
       "2         Des. Roberto Eugenio da Fonseca Porto                Apelação   \n",
       "3  Dra. Ana Bernadete Leite de Carvalho Andrade                Apelação   \n",
       "4             Des. Osório de Araújo Ramos Filho                Apelação   \n",
       "\n",
       "  NroAcordao   NroProcesso    OrgaoJulgador                  data  \\\n",
       "0   20165410  200200205551  2ª CÂMARA CÍVEL  2016-04-14T00:00:00Z   \n",
       "1  201420012  200300104705   TRIBUNAL PLENO  2014-12-09T00:00:00Z   \n",
       "2   20149458  200300206387  1ª CÂMARA CÍVEL  2014-07-03T00:00:00Z   \n",
       "3   20161032  200400205720  1ª CÂMARA CÍVEL  2016-02-11T00:00:00Z   \n",
       "4  201511058  200400210132  1ª CÂMARA CÍVEL  2015-07-17T00:00:00Z   \n",
       "\n",
       "                                          txtAcordao  \\\n",
       "0   Vistos, relatados e discutidos estes autos, A...   \n",
       "1   Vistos, relatados e discutidos estes autos em...   \n",
       "2   Vistos, relatados e discutidos os presentes a...   \n",
       "3   Vistos, relatados e discutidos estes autos, a...   \n",
       "4   Vistos, relatados e discutidos os autos da pr...   \n",
       "\n",
       "                                           txtEmenta  \\\n",
       "0   APELAÇÃO CÍVEL. AÇÃO REVISIONAL. SUCESSIVOS C...   \n",
       "1   Embargos de Declaração. Alegação de omissão. ...   \n",
       "2   APELAÇÃO CÍVEL ? CONTRATO BANCÁRIO ? NOVO JUL...   \n",
       "3   RECURSO EXTRAORDINÁRIO SOBRESTADO NA PRESIDÊN...   \n",
       "4   APELAÇÃO CÍVEL ? AÇÃO REVISIONAL ? CONTRATO B...   \n",
       "\n",
       "                                        txtRelatorio  \\\n",
       "0   Desembargador Cezário Siqueira Neto (Relator)...   \n",
       "1   Desembargador Luiz Antônio Araújo Mendonça (R...   \n",
       "2   Des. ROBERTO EUGENIO DA FONSECA PORTO (Relato...   \n",
       "3   JUÍZA CONVOCADA ANA BERNADETE LEITE DE CARVAL...   \n",
       "4   O BANCO DO ESTADO DE SERGIPE S/A - BANESE, in...   \n",
       "\n",
       "                                             txtVoto  \n",
       "0   Desembargador Cezário Siqueira Neto (Relator)...  \n",
       "1   Desembargador Luiz Antônio Araújo Mendonça (R...  \n",
       "2   Des. ROBERTO EUGENIO DA FONSECA PORTO (Relato...  \n",
       "3   JUÍZA CONVOCADA ANA BERNADETE LEITE DE CARVAL...  \n",
       "4   O BANCO DO ESTADO DE SERGIPE S/A - BANESE, in...  "
      ]
     },
     "execution_count": 2,
     "metadata": {},
     "output_type": "execute_result"
    }
   ],
   "source": [
    "import pandas as pd\n",
    "\n",
    "df = pd.DataFrame(acordaos_dict)\n",
    "del acordaos_dict #Não precisamos mais do dicionário ocupando nossa preciosa memória\n",
    "df.head()"
   ]
  },
  {
   "cell_type": "code",
   "execution_count": 3,
   "metadata": {},
   "outputs": [
    {
     "name": "stdout",
     "output_type": "stream",
     "text": [
      "<class 'pandas.core.frame.DataFrame'>\n",
      "RangeIndex: 181994 entries, 0 to 181993\n",
      "Data columns (total 10 columns):\n",
      "DesRelator       181720 non-null object\n",
      "DescRecurso      181993 non-null object\n",
      "NroAcordao       181994 non-null object\n",
      "NroProcesso      181994 non-null object\n",
      "OrgaoJulgador    181994 non-null object\n",
      "data             181994 non-null object\n",
      "txtAcordao       181935 non-null object\n",
      "txtEmenta        181994 non-null object\n",
      "txtRelatorio     172528 non-null object\n",
      "txtVoto          181994 non-null object\n",
      "dtypes: object(10)\n",
      "memory usage: 13.9+ MB\n"
     ]
    }
   ],
   "source": [
    "df.info()"
   ]
  },
  {
   "cell_type": "markdown",
   "metadata": {},
   "source": [
    "Beleza! Temos um dataframe com 181994 acórdãos. Vamos começar dando uma olhada nos nomes dos relatores. Será que tem nomes iguais com *cases* diferentes?"
   ]
  },
  {
   "cell_type": "code",
   "execution_count": 4,
   "metadata": {},
   "outputs": [
    {
     "data": {
      "text/plain": [
       "11"
      ]
     },
     "metadata": {},
     "output_type": "display_data"
    }
   ],
   "source": [
    "display(df.DesRelator.unique().size - df.DesRelator.str.lower().unique().size)"
   ]
  },
  {
   "cell_type": "markdown",
   "metadata": {},
   "source": [
    "Acertamos no palpite! Vamos converter todos os nomes para *lower case* e ver o que acontece."
   ]
  },
  {
   "cell_type": "code",
   "execution_count": 5,
   "metadata": {},
   "outputs": [
    {
     "data": {
      "text/plain": [
       "array(['corregedor geral de justiça', 'des. alberto romeu gouveia leite',\n",
       "       'des. aloiso de abreu lima', 'des. artur oscar de oliveira deda',\n",
       "       'des. cezário siqueira neto', 'des. cláudio dinart déda chagas',\n",
       "       'des. diógenes barreto', 'des. edson ulisses de melo',\n",
       "       'des. epaminondas s. de andrade lima',\n",
       "       'des. fernando ribeiro franco', 'des. gilson gois soares',\n",
       "       'des. jose antonio de a. goes', 'des. jose barreto prado',\n",
       "       'des. jose nolasco de carvalho', 'des. josé alves neto',\n",
       "       'des. josé artêmio barreto', 'des. josé dos anjos',\n",
       "       'des. luiz antônio araújo mendonça', 'des. manoel cândido filho',\n",
       "       'des. manuel pascoal nabuco d`avila',\n",
       "       'des. netônio bezerra machado', 'des. osório de araújo ramos filho',\n",
       "       'des. ricardo múcio santana de a. lima',\n",
       "       'des. ricardo múcio santana de abreu lima',\n",
       "       'des. roberto eugenio da fonseca porto',\n",
       "       'des. ruy pinheiro da silva',\n",
       "       'desa. ana lúcia freire de a. dos anjos',\n",
       "       'desa. clara leite de rezende',\n",
       "       'desa. célia pinheiro silva menezes',\n",
       "       'desa. elvira maria de almeida silva',\n",
       "       'desa. geni silveira schuster', 'desa. iolanda santos guimarães',\n",
       "       'desa. josefa paixão de santana',\n",
       "       'desa. madeleine alves de souza gouveia',\n",
       "       'desa. maria aparecida santos gama da silva',\n",
       "       'desa. marilza maynard salgado de carvalho',\n",
       "       'desa. suzana maria carvalho oliveira',\n",
       "       'desa. vaga de desembargador(desa. geni schuster)',\n",
       "       'desa. vaga de desembargador(desa. marilza maynard)',\n",
       "       'desa. vaga de desembargador(desa. suzana oliveira)',\n",
       "       'dr. gilson felix dos santos', 'dr. josé anselmo de oliveira',\n",
       "       'dr. joão hora neto',\n",
       "       'dra. ana bernadete leite de carvalho andrade',\n",
       "       'dra. bethzamara rocha macedo',\n",
       "       'dra. maria angélica frança e souza',\n",
       "       'dra. maria da conceição da s. santos',\n",
       "       'dra. áurea corumba de santana',\n",
       "       'presidente do tribunal de justica',\n",
       "       'vaga de desembargador (des. gilson)',\n",
       "       'vaga de desembargador (des. josé alves)',\n",
       "       'vaga de desembargador (des. josé artêmio)',\n",
       "       'vaga de desembargador (des. netônio)',\n",
       "       'vaga de desembargador (des. pascoal)',\n",
       "       'vaga de desembargador (desa. clara leite)',\n",
       "       'vaga de desembargador (desa. célia pinheiro)',\n",
       "       'vaga de desembargador (desa. madeleine)', nan], dtype=object)"
      ]
     },
     "execution_count": 5,
     "metadata": {},
     "output_type": "execute_result"
    }
   ],
   "source": [
    "df.DesRelator = df.DesRelator.str.lower()\n",
    "\n",
    "df.DesRelator.sort_values().unique()"
   ]
  },
  {
   "cell_type": "markdown",
   "metadata": {},
   "source": [
    "Os nomes 'des. ricardo múcio santana de a. lima' e 'des. ricardo múcio santana de abreu lima' representam a mesma pessoa. Para economizar alguns *keystrokes*, manteremos somente a versão abreviada:"
   ]
  },
  {
   "cell_type": "code",
   "execution_count": 6,
   "metadata": {},
   "outputs": [],
   "source": [
    "df.DesRelator = df.DesRelator.replace('des. ricardo múcio santana de abreu lima', 'des. ricardo múcio santana de a. lima')"
   ]
  },
  {
   "cell_type": "markdown",
   "metadata": {},
   "source": [
    "Aparentemente, os nomes estão ok. Para evitar situações desse tipo, vamos converter `DescRecurso` e `OrgaoJulgador` para caixa-baixa."
   ]
  },
  {
   "cell_type": "code",
   "execution_count": 7,
   "metadata": {},
   "outputs": [
    {
     "data": {
      "text/plain": [
       "141"
      ]
     },
     "metadata": {},
     "output_type": "display_data"
    },
    {
     "data": {
      "text/plain": [
       "0                       apelação\n",
       "1         embargos de declaração\n",
       "55    recurso em sentido estrito\n",
       "57               ação rescisória\n",
       "79          mandado de segurança\n",
       "Name: DescRecurso, dtype: object"
      ]
     },
     "metadata": {},
     "output_type": "display_data"
    },
    {
     "data": {
      "text/plain": [
       "array(['2ª câmara cível', 'tribunal pleno', '1ª câmara cível',\n",
       "       'câmara criminal', 'câmaras cíveis reunidas',\n",
       "       'conselho da magistratura', 'câmara cível'], dtype=object)"
      ]
     },
     "execution_count": 7,
     "metadata": {},
     "output_type": "execute_result"
    }
   ],
   "source": [
    "df.DescRecurso = df.DescRecurso.str.lower()\n",
    "display(len(df.DescRecurso.unique()))\n",
    "display(df.DescRecurso.drop_duplicates().head()) #visualizando somente os primeiros tipos de recurso\n",
    "\n",
    "df.OrgaoJulgador = df.OrgaoJulgador.str.lower()\n",
    "df.OrgaoJulgador.unique() #aqui são poucos, podemos visualizar todos\n"
   ]
  },
  {
   "cell_type": "markdown",
   "metadata": {},
   "source": [
    "Massa! Vamos olhar agora o campo `data`. Já que nenhuma data está com o valor nulo, vamos checar se todas estão no formato correto."
   ]
  },
  {
   "cell_type": "code",
   "execution_count": 8,
   "metadata": {},
   "outputs": [
    {
     "data": {
      "text/plain": [
       "0"
      ]
     },
     "execution_count": 8,
     "metadata": {},
     "output_type": "execute_result"
    }
   ],
   "source": [
    "idx_formato_correto = df.data.str.match(r'\\d{4}-\\d{2}-\\d{2}T\\d{2}:\\d{2}:\\d{2}Z')\n",
    "len(df) - sum(idx_formato_correto)"
   ]
  },
  {
   "cell_type": "markdown",
   "metadata": {},
   "source": [
    "Ótimo! Todas as datas estão com formato válido. Vamos ver se o Pandas consegue convertê-las:"
   ]
  },
  {
   "cell_type": "code",
   "execution_count": 9,
   "metadata": {},
   "outputs": [],
   "source": [
    "df.data = pd.to_datetime(df.data)"
   ]
  },
  {
   "cell_type": "markdown",
   "metadata": {},
   "source": [
    "O CSV não armazena informações de tipo (o [Parquet](https://parquet.apache.org/) está ganhando popularidade e esse é um dos motivos), mas, pelo menos, já sabemos que o Pandas está conseguindo converter sem problemas. Vamos dar mais uma olhada no nosso dataframe:"
   ]
  },
  {
   "cell_type": "code",
   "execution_count": 10,
   "metadata": {},
   "outputs": [
    {
     "name": "stdout",
     "output_type": "stream",
     "text": [
      "<class 'pandas.core.frame.DataFrame'>\n",
      "RangeIndex: 181994 entries, 0 to 181993\n",
      "Data columns (total 10 columns):\n",
      "DesRelator       181720 non-null object\n",
      "DescRecurso      181993 non-null object\n",
      "NroAcordao       181994 non-null object\n",
      "NroProcesso      181994 non-null object\n",
      "OrgaoJulgador    181994 non-null object\n",
      "data             181994 non-null datetime64[ns]\n",
      "txtAcordao       181935 non-null object\n",
      "txtEmenta        181994 non-null object\n",
      "txtRelatorio     172528 non-null object\n",
      "txtVoto          181994 non-null object\n",
      "dtypes: datetime64[ns](1), object(9)\n",
      "memory usage: 13.9+ MB\n"
     ]
    },
    {
     "data": {
      "text/html": [
       "<div>\n",
       "<style>\n",
       "    .dataframe thead tr:only-child th {\n",
       "        text-align: right;\n",
       "    }\n",
       "\n",
       "    .dataframe thead th {\n",
       "        text-align: left;\n",
       "    }\n",
       "\n",
       "    .dataframe tbody tr th {\n",
       "        vertical-align: top;\n",
       "    }\n",
       "</style>\n",
       "<table border=\"1\" class=\"dataframe\">\n",
       "  <thead>\n",
       "    <tr style=\"text-align: right;\">\n",
       "      <th></th>\n",
       "      <th>DesRelator</th>\n",
       "      <th>DescRecurso</th>\n",
       "      <th>NroAcordao</th>\n",
       "      <th>NroProcesso</th>\n",
       "      <th>OrgaoJulgador</th>\n",
       "      <th>data</th>\n",
       "      <th>txtAcordao</th>\n",
       "      <th>txtEmenta</th>\n",
       "      <th>txtRelatorio</th>\n",
       "      <th>txtVoto</th>\n",
       "    </tr>\n",
       "  </thead>\n",
       "  <tbody>\n",
       "    <tr>\n",
       "      <th>0</th>\n",
       "      <td>des. cezário siqueira neto</td>\n",
       "      <td>apelação</td>\n",
       "      <td>20165410</td>\n",
       "      <td>200200205551</td>\n",
       "      <td>2ª câmara cível</td>\n",
       "      <td>2016-04-14</td>\n",
       "      <td>Vistos, relatados e discutidos estes autos, A...</td>\n",
       "      <td>APELAÇÃO CÍVEL. AÇÃO REVISIONAL. SUCESSIVOS C...</td>\n",
       "      <td>Desembargador Cezário Siqueira Neto (Relator)...</td>\n",
       "      <td>Desembargador Cezário Siqueira Neto (Relator)...</td>\n",
       "    </tr>\n",
       "    <tr>\n",
       "      <th>1</th>\n",
       "      <td>des. luiz antônio araújo mendonça</td>\n",
       "      <td>embargos de declaração</td>\n",
       "      <td>201420012</td>\n",
       "      <td>200300104705</td>\n",
       "      <td>tribunal pleno</td>\n",
       "      <td>2014-12-09</td>\n",
       "      <td>Vistos, relatados e discutidos estes autos em...</td>\n",
       "      <td>Embargos de Declaração. Alegação de omissão. ...</td>\n",
       "      <td>Desembargador Luiz Antônio Araújo Mendonça (R...</td>\n",
       "      <td>Desembargador Luiz Antônio Araújo Mendonça (R...</td>\n",
       "    </tr>\n",
       "    <tr>\n",
       "      <th>2</th>\n",
       "      <td>des. roberto eugenio da fonseca porto</td>\n",
       "      <td>apelação</td>\n",
       "      <td>20149458</td>\n",
       "      <td>200300206387</td>\n",
       "      <td>1ª câmara cível</td>\n",
       "      <td>2014-07-03</td>\n",
       "      <td>Vistos, relatados e discutidos os presentes a...</td>\n",
       "      <td>APELAÇÃO CÍVEL ? CONTRATO BANCÁRIO ? NOVO JUL...</td>\n",
       "      <td>Des. ROBERTO EUGENIO DA FONSECA PORTO (Relato...</td>\n",
       "      <td>Des. ROBERTO EUGENIO DA FONSECA PORTO (Relato...</td>\n",
       "    </tr>\n",
       "    <tr>\n",
       "      <th>3</th>\n",
       "      <td>dra. ana bernadete leite de carvalho andrade</td>\n",
       "      <td>apelação</td>\n",
       "      <td>20161032</td>\n",
       "      <td>200400205720</td>\n",
       "      <td>1ª câmara cível</td>\n",
       "      <td>2016-02-11</td>\n",
       "      <td>Vistos, relatados e discutidos estes autos, a...</td>\n",
       "      <td>RECURSO EXTRAORDINÁRIO SOBRESTADO NA PRESIDÊN...</td>\n",
       "      <td>JUÍZA CONVOCADA ANA BERNADETE LEITE DE CARVAL...</td>\n",
       "      <td>JUÍZA CONVOCADA ANA BERNADETE LEITE DE CARVAL...</td>\n",
       "    </tr>\n",
       "    <tr>\n",
       "      <th>4</th>\n",
       "      <td>des. osório de araújo ramos filho</td>\n",
       "      <td>apelação</td>\n",
       "      <td>201511058</td>\n",
       "      <td>200400210132</td>\n",
       "      <td>1ª câmara cível</td>\n",
       "      <td>2015-07-17</td>\n",
       "      <td>Vistos, relatados e discutidos os autos da pr...</td>\n",
       "      <td>APELAÇÃO CÍVEL ? AÇÃO REVISIONAL ? CONTRATO B...</td>\n",
       "      <td>O BANCO DO ESTADO DE SERGIPE S/A - BANESE, in...</td>\n",
       "      <td>O BANCO DO ESTADO DE SERGIPE S/A - BANESE, in...</td>\n",
       "    </tr>\n",
       "  </tbody>\n",
       "</table>\n",
       "</div>"
      ],
      "text/plain": [
       "                                     DesRelator             DescRecurso  \\\n",
       "0                    des. cezário siqueira neto                apelação   \n",
       "1             des. luiz antônio araújo mendonça  embargos de declaração   \n",
       "2         des. roberto eugenio da fonseca porto                apelação   \n",
       "3  dra. ana bernadete leite de carvalho andrade                apelação   \n",
       "4             des. osório de araújo ramos filho                apelação   \n",
       "\n",
       "  NroAcordao   NroProcesso    OrgaoJulgador       data  \\\n",
       "0   20165410  200200205551  2ª câmara cível 2016-04-14   \n",
       "1  201420012  200300104705   tribunal pleno 2014-12-09   \n",
       "2   20149458  200300206387  1ª câmara cível 2014-07-03   \n",
       "3   20161032  200400205720  1ª câmara cível 2016-02-11   \n",
       "4  201511058  200400210132  1ª câmara cível 2015-07-17   \n",
       "\n",
       "                                          txtAcordao  \\\n",
       "0   Vistos, relatados e discutidos estes autos, A...   \n",
       "1   Vistos, relatados e discutidos estes autos em...   \n",
       "2   Vistos, relatados e discutidos os presentes a...   \n",
       "3   Vistos, relatados e discutidos estes autos, a...   \n",
       "4   Vistos, relatados e discutidos os autos da pr...   \n",
       "\n",
       "                                           txtEmenta  \\\n",
       "0   APELAÇÃO CÍVEL. AÇÃO REVISIONAL. SUCESSIVOS C...   \n",
       "1   Embargos de Declaração. Alegação de omissão. ...   \n",
       "2   APELAÇÃO CÍVEL ? CONTRATO BANCÁRIO ? NOVO JUL...   \n",
       "3   RECURSO EXTRAORDINÁRIO SOBRESTADO NA PRESIDÊN...   \n",
       "4   APELAÇÃO CÍVEL ? AÇÃO REVISIONAL ? CONTRATO B...   \n",
       "\n",
       "                                        txtRelatorio  \\\n",
       "0   Desembargador Cezário Siqueira Neto (Relator)...   \n",
       "1   Desembargador Luiz Antônio Araújo Mendonça (R...   \n",
       "2   Des. ROBERTO EUGENIO DA FONSECA PORTO (Relato...   \n",
       "3   JUÍZA CONVOCADA ANA BERNADETE LEITE DE CARVAL...   \n",
       "4   O BANCO DO ESTADO DE SERGIPE S/A - BANESE, in...   \n",
       "\n",
       "                                             txtVoto  \n",
       "0   Desembargador Cezário Siqueira Neto (Relator)...  \n",
       "1   Desembargador Luiz Antônio Araújo Mendonça (R...  \n",
       "2   Des. ROBERTO EUGENIO DA FONSECA PORTO (Relato...  \n",
       "3   JUÍZA CONVOCADA ANA BERNADETE LEITE DE CARVAL...  \n",
       "4   O BANCO DO ESTADO DE SERGIPE S/A - BANESE, in...  "
      ]
     },
     "execution_count": 10,
     "metadata": {},
     "output_type": "execute_result"
    }
   ],
   "source": [
    "df.info()\n",
    "df.head()"
   ]
  },
  {
   "cell_type": "markdown",
   "metadata": {},
   "source": [
    "Poderíamos também converter os campos `txtAcordao`, `txtEmenta` e `txtRelatório` para caixa baixa e, além disso, remover pontuação, quebras de linhas, etc. No entanto, não queremos eliminar nenhuma possibilidade de análise de forma precipitada. De repente, o pesquisador descobre que caixa-alta dentro dos textos representa algum tipo de cabeçalho (será? não sei) e quer fazer uma análise em cima disso. Portanto, deixemos assim mesmo.\n",
    "\n",
    "Agora podemos gerar nosso arquivo CSV:"
   ]
  },
  {
   "cell_type": "code",
   "execution_count": 11,
   "metadata": {},
   "outputs": [],
   "source": [
    "df.to_csv('dataset/asg.csv.gz', index=False)"
   ]
  },
  {
   "cell_type": "markdown",
   "metadata": {},
   "source": [
    "O arquivo ficou com 638M. Ah! O read_csv do pandas consegue ler arquivos comprimidos, não precisa decompactá-los. Agora podemos aposentar esses arquivos XML. Nos próximos notebooks usaremos somente esse arquivo CSV gerado.\n",
    "\n",
    "Disponibilizei o arquivo para [download](https://osf.io/4daqk/?action=download)."
   ]
  }
 ],
 "metadata": {
  "kernelspec": {
   "display_name": "Python 3",
   "language": "python",
   "name": "python3"
  },
  "language_info": {
   "codemirror_mode": {
    "name": "ipython",
    "version": 3
   },
   "file_extension": ".py",
   "mimetype": "text/x-python",
   "name": "python",
   "nbconvert_exporter": "python",
   "pygments_lexer": "ipython3",
   "version": "3.6.3"
  }
 },
 "nbformat": 4,
 "nbformat_minor": 2
}
